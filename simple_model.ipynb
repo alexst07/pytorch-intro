{
 "cells": [
  {
   "cell_type": "markdown",
   "metadata": {},
   "source": [
    "# Redes Neurais"
   ]
  },
  {
   "cell_type": "markdown",
   "metadata": {},
   "source": [
    "No exemplo abaixo é mostrado como fazer o treinamento de uma rede neural bem simples para classificar o dataset MNIST, o dataset MNIST é um conjunto de dígitos escritos a mão de 0 a 9."
   ]
  },
  {
   "cell_type": "code",
   "execution_count": 16,
   "metadata": {},
   "outputs": [
    {
     "name": "stdout",
     "output_type": "stream",
     "text": [
      " -- total trainning batch number: 600\n",
      " -- total testing batch number: 100\n"
     ]
    }
   ],
   "source": [
    "import os\n",
    "import torch\n",
    "import torch.nn as nn\n",
    "from torch.autograd import Variable\n",
    "import torchvision.datasets as dset\n",
    "import torchvision.transforms as transforms\n",
    "import torch.nn.functional as F\n",
    "import torch.optim as optim\n",
    "\n",
    "## carrega o dataset mnist\n",
    "root = './data'\n",
    "if not os.path.exists(root):\n",
    "    os.mkdir(root)\n",
    "    \n",
    "# function utilizado para fazer a normalização\n",
    "trans = transforms.Compose([transforms.ToTensor(), transforms.Normalize((0.5,), (1.0,))])\n",
    "\n",
    "# carrega o dataset MNIST, caso esse não exista, faz o download\n",
    "train_set = dset.MNIST(root=root, train=True, transform=trans, download=True)\n",
    "\n",
    "batch_size = 100\n",
    "\n",
    "# instancia o dataloader utilizando o dataset MNIST\n",
    "train_loader = torch.utils.data.DataLoader(\n",
    "                 dataset=train_set,\n",
    "                 batch_size=batch_size,\n",
    "                 shuffle=True)\n",
    "\n",
    "print (' -- total trainning batch number: {0}'.format(len(train_loader)))"
   ]
  },
  {
   "cell_type": "markdown",
   "metadata": {},
   "source": [
    "`dset.MNIST` carrega o dataset MNIST, caso esse ainda não exista, esse método faz o download. O argumento trans é um function utilizado para normalizar os dados do MNIST.\n",
    "`DataLoader` instância o dataload que será utilizado durante o treinamento"
   ]
  },
  {
   "cell_type": "code",
   "execution_count": 25,
   "metadata": {},
   "outputs": [
    {
     "name": "stdout",
     "output_type": "stream",
     "text": [
      "MyNet(\n",
      "  (fc1): Linear(in_features=784, out_features=300, bias=True)\n",
      "  (fc2): Linear(in_features=300, out_features=256, bias=True)\n",
      "  (fc3): Linear(in_features=256, out_features=128, bias=True)\n",
      "  (fc4): Linear(in_features=128, out_features=10, bias=True)\n",
      ")\n"
     ]
    }
   ],
   "source": [
    "# definição do modelo\n",
    "class MyNet(nn.Module):\n",
    "    def __init__(self):\n",
    "        super(MyNet, self).__init__()\n",
    "        self.fc1 = nn.Linear(28*28, 300)\n",
    "        self.fc2 = nn.Linear(300, 256)\n",
    "        self.fc3 = nn.Linear(256, 128)\n",
    "        self.fc4 = nn.Linear(128, 10)\n",
    "        \n",
    "    def forward(self, x):\n",
    "        x = x.view(-1, 28*28)\n",
    "        x = F.relu(self.fc1(x))\n",
    "        x = F.relu(self.fc2(x))\n",
    "        x = F.relu(self.fc3(x))\n",
    "        x = self.fc4(x)\n",
    "        return x\n",
    "\n",
    "\n",
    "model = MyNet()\n",
    "print(model)"
   ]
  },
  {
   "cell_type": "markdown",
   "metadata": {},
   "source": [
    "Para definir o seu modelo no PyTorch você deve criar uma classe que herda de `nn.Module`. O design do PyTorch é fortemente baseado em orientação a objetos.\n",
    "A classe do seu modelo precisa implementar o método  `forward`, assim o esqueleto da classe que representa o nosso modelo é:\n",
    "```\n",
    "class MyNet(nn.Module):\n",
    "    def __init__(self):\n",
    "        super(MyNet, self).__init__()\n",
    "        \n",
    "    def forward(self, x):\n",
    "        pass\n",
    "```\n",
    "No método `__ini__` são instanciados os objetos utilizados no modelo, nesse caso as camadas que serão utilizadas no modelo. No nosso caso serão utilizadas 3 camadas lineares.\n",
    "\n",
    "`torch.nn.Linear(in_features, out_features, bias=True)` essa é a assinatura do objeto Linear, o primeiro argumento é número de features de entrada, o segundo é o número de features de saída e o terceiro especifica se terá ou não bias. Como sabemos o tamanho das imagens do MNIST é 28x28 pixels monocromáticos, ou seja, apenas em tons de cinza.\n",
    "\n",
    "O método `forward` é onde essas camadas são conectadas. Uma atenção bem grande deve ser dada às conexões das camadas, o argumento `x` representa a entrada do modelo, é por ele que irá fluir o nosso tensor de entrada.\n",
    "\n",
    "`x = x.view(-1, 28*28)`: O método `view` modifica o shape do tensor, e no caso o argumento -1 diz para o método que nós não sabemos quantas linhas tem o nosso tensor, note que apenas um parâmetro pode ser -1 no método `view`.\n",
    "\n",
    "As próximas linhas conectam uma camada na outra, algo que pode gerar alguma confusão é o tipo do parâmetro `x`.\n",
    "`torch::Tensor forward(torch::Tensor x)` Essa é a assinatura da API do PyTorch em C++, `forward` recebe e retorna um tensor, portanto, funções como `F.relu` também retornam um tensor.\n",
    "\n",
    "O fato das camadas como Linear serem definidos no construtor, enquanto a relu ser apenas uma função que é conectada no método `forward`, se deve ao fato que Linear possui parâmetros (pesos), e não apenas uma função matemática que modifica o tensor de entrada como é o caso das funções de ativação."
   ]
  },
  {
   "cell_type": "code",
   "execution_count": 26,
   "metadata": {
    "collapsed": true
   },
   "outputs": [
    {
     "name": "stdout",
     "output_type": "stream",
     "text": [
      "==>>> epoch: 0, batch index: 100, train loss: 1.9767781496047974\n",
      "==>>> epoch: 0, batch index: 200, train loss: 0.5577573776245117\n",
      "==>>> epoch: 0, batch index: 300, train loss: 0.3963330090045929\n",
      "==>>> epoch: 0, batch index: 400, train loss: 0.21971210837364197\n",
      "==>>> epoch: 0, batch index: 500, train loss: 0.25142425298690796\n",
      "==>>> epoch: 0, batch index: 600, train loss: 0.27990201115608215\n",
      "==>>> epoch: 1, batch index: 100, train loss: 0.2895001769065857\n",
      "==>>> epoch: 1, batch index: 200, train loss: 0.15145011246204376\n",
      "==>>> epoch: 1, batch index: 300, train loss: 0.2328670471906662\n",
      "==>>> epoch: 1, batch index: 400, train loss: 0.24531914293766022\n",
      "==>>> epoch: 1, batch index: 500, train loss: 0.1771671175956726\n",
      "==>>> epoch: 1, batch index: 600, train loss: 0.15539273619651794\n",
      "==>>> epoch: 2, batch index: 100, train loss: 0.37194594740867615\n",
      "==>>> epoch: 2, batch index: 200, train loss: 0.12438665330410004\n",
      "==>>> epoch: 2, batch index: 300, train loss: 0.12461578100919724\n",
      "==>>> epoch: 2, batch index: 400, train loss: 0.1315932422876358\n",
      "==>>> epoch: 2, batch index: 500, train loss: 0.19791610538959503\n",
      "==>>> epoch: 2, batch index: 600, train loss: 0.11764700710773468\n",
      "==>>> epoch: 3, batch index: 100, train loss: 0.0639018714427948\n",
      "==>>> epoch: 3, batch index: 200, train loss: 0.1298096626996994\n",
      "==>>> epoch: 3, batch index: 300, train loss: 0.3355529010295868\n",
      "==>>> epoch: 3, batch index: 400, train loss: 0.10434451699256897\n",
      "==>>> epoch: 3, batch index: 500, train loss: 0.2082432508468628\n",
      "==>>> epoch: 3, batch index: 600, train loss: 0.08949398994445801\n",
      "==>>> epoch: 4, batch index: 100, train loss: 0.0854153260588646\n",
      "==>>> epoch: 4, batch index: 200, train loss: 0.16651703417301178\n",
      "==>>> epoch: 4, batch index: 300, train loss: 0.16374200582504272\n",
      "==>>> epoch: 4, batch index: 400, train loss: 0.051357436925172806\n",
      "==>>> epoch: 4, batch index: 500, train loss: 0.17444568872451782\n",
      "==>>> epoch: 4, batch index: 600, train loss: 0.15846502780914307\n",
      "==>>> epoch: 5, batch index: 100, train loss: 0.0945349633693695\n",
      "==>>> epoch: 5, batch index: 200, train loss: 0.067236989736557\n",
      "==>>> epoch: 5, batch index: 300, train loss: 0.102035291492939\n",
      "==>>> epoch: 5, batch index: 400, train loss: 0.10783065855503082\n",
      "==>>> epoch: 5, batch index: 500, train loss: 0.07691483944654465\n",
      "==>>> epoch: 5, batch index: 600, train loss: 0.07642512768507004\n",
      "==>>> epoch: 6, batch index: 100, train loss: 0.1591457724571228\n",
      "==>>> epoch: 6, batch index: 200, train loss: 0.1289600431919098\n",
      "==>>> epoch: 6, batch index: 300, train loss: 0.0925246924161911\n",
      "==>>> epoch: 6, batch index: 400, train loss: 0.07725455611944199\n",
      "==>>> epoch: 6, batch index: 500, train loss: 0.022121911868453026\n",
      "==>>> epoch: 6, batch index: 600, train loss: 0.0757741928100586\n",
      "==>>> epoch: 7, batch index: 100, train loss: 0.03361998870968819\n",
      "==>>> epoch: 7, batch index: 200, train loss: 0.0406792126595974\n",
      "==>>> epoch: 7, batch index: 300, train loss: 0.06328120827674866\n",
      "==>>> epoch: 7, batch index: 400, train loss: 0.03680542856454849\n",
      "==>>> epoch: 7, batch index: 500, train loss: 0.08725012838840485\n",
      "==>>> epoch: 7, batch index: 600, train loss: 0.033590469509363174\n",
      "==>>> epoch: 8, batch index: 100, train loss: 0.05878501385450363\n",
      "==>>> epoch: 8, batch index: 200, train loss: 0.04858461767435074\n",
      "==>>> epoch: 8, batch index: 300, train loss: 0.09484919905662537\n",
      "==>>> epoch: 8, batch index: 400, train loss: 0.09701070934534073\n",
      "==>>> epoch: 8, batch index: 500, train loss: 0.026902036741375923\n",
      "==>>> epoch: 8, batch index: 600, train loss: 0.05314929783344269\n",
      "==>>> epoch: 9, batch index: 100, train loss: 0.057075273245573044\n",
      "==>>> epoch: 9, batch index: 200, train loss: 0.030561048537492752\n",
      "==>>> epoch: 9, batch index: 300, train loss: 0.02029186673462391\n",
      "==>>> epoch: 9, batch index: 400, train loss: 0.05309654399752617\n",
      "==>>> epoch: 9, batch index: 500, train loss: 0.10022180527448654\n",
      "==>>> epoch: 9, batch index: 600, train loss: 0.0166034959256649\n"
     ]
    }
   ],
   "source": [
    "device = torch.device(\"cuda\" if use_cuda else \"cpu\")\n",
    "\n",
    "# instância o algoritmo de otimização SGD para atualizar os parâmetros do nosso modelo\n",
    "optimizer = optim.SGD(model.parameters(), lr=0.01, momentum=0.9)\n",
    "\n",
    "# instância a função de perda\n",
    "criterion = nn.CrossEntropyLoss()\n",
    "\n",
    "for epoch in range(10):\n",
    "    # itera sobre o data loader para gerar lotes do conjunto de dados\n",
    "    for batch_idx, (x, target) in enumerate(train_loader):\n",
    "        # reseta os gradientes\n",
    "        optimizer.zero_grad()\n",
    "        # transfere o tensor para o device utilizado\n",
    "        x, target = x.to(device), target.to(device)\n",
    "        # executa o modelo nos dados de entrada\n",
    "        out = model(x)\n",
    "        # calcula o valor de perda para comparar com o nosso modelo\n",
    "        loss = criterion(out, target)\n",
    "        # calcula o gradiente da perda calculada no nosso modelo\n",
    "        loss.backward()\n",
    "        # atualiza os parâmetros do nosso modelo baseado no cálculo do gradiente\n",
    "        optimizer.step()\n",
    "        # imprime a época, o batch e a perda periodicamente a cada 100 batches         \n",
    "        if (batch_idx+1) % 100 == 0 or (batch_idx+1) == len(train_loader):\n",
    "            print ('==>>> epoch: {0}, batch index: {1}, train loss: {2}'.format(\n",
    "                epoch, batch_idx+1, loss.item()))"
   ]
  },
  {
   "cell_type": "markdown",
   "metadata": {},
   "source": [
    "Embora possa ter variações, esse é o formato básico padrão do loop de treinamento utilizado pelo PyTorch. Os comentários em cada linha diz que cada chamada faz.\n",
    "\n",
    "O loop começa com uma chamada de `zero_grad` para zerar o gradiente, isso é necessário pois o PyTorch acumula o gradiente, isso é útil em redes recorrentes e em vários outros casos, então, se não é esse o nosso caso, temos que zerar o gradiente.\n",
    "Os próximos passos é basicamente calcular a predição para os dados de entrada utilizando com os parâmetros que temos no momento, e comparar com a predição anotada, então precisamos calcular o gradiente utilizando a função de otimização escolhida, que no nosso caso foi SGD, e então atualizamos os parâmetros do nosso modelo utilizando o gradiente calculado."
   ]
  },
  {
   "cell_type": "code",
   "execution_count": 56,
   "metadata": {},
   "outputs": [
    {
     "name": "stdout",
     "output_type": "stream",
     "text": [
      "number:  4\n"
     ]
    },
    {
     "data": {
      "image/png": "[encoded data removed]",
      "text/plain": [
       "<Figure size 432x288 with 1 Axes>"
      ]
     },
     "metadata": {},
     "output_type": "display_data"
    }
   ],
   "source": [
    "# importa o pacote para plotar imagens\n",
    "import matplotlib.pyplot as plt\n",
    "\n",
    "# a cada execução pega a próxima imagem e plota essa imagem\n",
    "(example_data, _) = next(iter(train_loader))\n",
    "fig = plt.figure()\n",
    "plt.imshow(example_data[0][0], cmap='gray', interpolation='none')\n",
    "fig\n",
    "\n",
    "# faz a predição da imagem no modelo\n",
    "out = model(example_data[0][0])\n",
    "\n",
    "# pega o máximo valor do tensor e o seu indice\n",
    "values, indices = torch.max(out, 1)\n",
    "\n",
    "# imprime o indice que corresponde exatamente ao número\n",
    "print(\"number: \", int(indices[0]))"
   ]
  },
  {
   "cell_type": "markdown",
   "metadata": {},
   "source": [
    "Esse é um exemplo básico de como fazer a predição por um modelo treinado no PyTorch. É claro que na prática você nunca vai querer prever um dado que fez parte do conjunto de treinamento, mas para demonstrar como a coisa funciona, apesar de totalmente errado conceitualmente, por enquanto serve."
   ]
  },
  {
   "cell_type": "code",
   "execution_count": null,
   "metadata": {},
   "outputs": [],
   "source": []
  }
 ],
 "metadata": {
  "kernelspec": {
   "display_name": "Python 3",
   "language": "python",
   "name": "python3"
  },
  "language_info": {
   "codemirror_mode": {
    "name": "ipython",
    "version": 3
   },
   "file_extension": ".py",
   "mimetype": "text/x-python",
   "name": "python",
   "nbconvert_exporter": "python",
   "pygments_lexer": "ipython3",
   "version": "3.6.5"
  }
 },
 "nbformat": 4,
 "nbformat_minor": 2
}
